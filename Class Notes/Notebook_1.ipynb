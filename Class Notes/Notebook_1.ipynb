{
 "cells": [
  {
   "cell_type": "markdown",
   "metadata": {},
   "source": []
  },
  {
   "cell_type": "markdown",
   "metadata": {},
   "source": [
    "# Clase Uno de Python\n",
    "### Tipos de datos"
   ]
  },
  {
   "cell_type": "markdown",
   "metadata": {},
   "source": [
    "* Datos simples: \n"
   ]
  },
  {
   "cell_type": "markdown",
   "metadata": {},
   "source": [
    "\n",
    "Numéricos  Enteros y flotantes\n"
   ]
  },
  {
   "cell_type": "code",
   "execution_count": 5,
   "metadata": {},
   "outputs": [
    {
     "name": "stdout",
     "output_type": "stream",
     "text": [
      "<class 'float'>\n"
     ]
    }
   ],
   "source": [
    "#type()\n",
    "enteros = (1,2,3,4,5,6)\n",
    "flotantes = (0.5,0.3,12.5)\n",
    "\n",
    "a = 5.2\n",
    "print(type(a))"
   ]
  },
  {
   "cell_type": "markdown",
   "metadata": {},
   "source": [
    "\n",
    "Lógicos : (Verdadero o Falso)\n"
   ]
  },
  {
   "cell_type": "code",
   "execution_count": null,
   "metadata": {},
   "outputs": [
    {
     "data": {
      "text/plain": [
       "False"
      ]
     },
     "execution_count": 7,
     "metadata": {},
     "output_type": "execute_result"
    }
   ],
   "source": [
    "True \n",
    "False"
   ]
  },
  {
   "cell_type": "markdown",
   "metadata": {},
   "source": [
    "Operadores relacionales "
   ]
  },
  {
   "cell_type": "markdown",
   "metadata": {},
   "source": [
    "* (>)  mayor que\n",
    "* <  menor que \n",
    "* == igual que \n",
    "* != diferente\n",
    "\n",
    "* and  operación And\n",
    "* or  operación Or \n",
    "* not  Operacion not"
   ]
  },
  {
   "cell_type": "markdown",
   "metadata": {},
   "source": [
    "Caracteres y cadenas  de caracteres\n"
   ]
  },
  {
   "cell_type": "code",
   "execution_count": 7,
   "metadata": {},
   "outputs": [
    {
     "name": "stdout",
     "output_type": "stream",
     "text": [
      "7\n"
     ]
    }
   ],
   "source": [
    "caracteres = ('1','2','0','.12','12.5', 'A', 'B', '%', '#','/', 'Hola')\n",
    "\n"
   ]
  },
  {
   "cell_type": "markdown",
   "metadata": {},
   "source": [
    "Ejemplo #1"
   ]
  },
  {
   "cell_type": "code",
   "execution_count": 10,
   "metadata": {},
   "outputs": [
    {
     "name": "stdout",
     "output_type": "stream",
     "text": [
      "la suma es: 26.0\n",
      "la suma de 12.0 y 14.0 es: 26.0\n"
     ]
    }
   ],
   "source": [
    "num1 = float(input(\"Digite una distancia uno: \")) \n",
    "num2 = float(input(\"Digute una distancia dos: \"))\n",
    "\n",
    "#suma = num1+num2\n",
    "\n",
    "#print(\"la suma es: \",num1+num2)\n",
    "\n",
    "print(f'la suma es: {num1+num2}')\n",
    "\n",
    "print(f'la suma de {num1} y {num2} es: {num1+num2}')"
   ]
  },
  {
   "cell_type": "markdown",
   "metadata": {},
   "source": []
  },
  {
   "cell_type": "markdown",
   "metadata": {},
   "source": [
    "Ejercicio: calcular el indice de masa corporal de una persona\n",
    "Indice=  peso / altura ^2  (**)\n",
    "\n",
    "PSEUDOCODIGO\n",
    "* Ingresar el peso y altura de  una persona\n",
    "* calcular  el índice con la ecuacion Indice\n",
    "* Mostrar el resultado en pantalla"
   ]
  },
  {
   "cell_type": "markdown",
   "metadata": {},
   "source": [
    "Solución:"
   ]
  },
  {
   "cell_type": "code",
   "execution_count": 8,
   "metadata": {},
   "outputs": [
    {
     "name": "stdout",
     "output_type": "stream",
     "text": [
      "Su indice de masa corporal es: 24.221453287197235\n"
     ]
    }
   ],
   "source": [
    "\n",
    "peso = float(input(\"Ingrese su peso en kg: \"))\n",
    "altura = float(input(\"Ingrese su estatura: \"))\n",
    "Indice =  (peso)/(altura**2)\n",
    "\n",
    "print(\"Su indice de masa corporal es:\",Indice)\n",
    "\n"
   ]
  },
  {
   "cell_type": "markdown",
   "metadata": {},
   "source": [
    "### Condicionales \n",
    "* IF (SI)\n",
    "\n"
   ]
  },
  {
   "cell_type": "code",
   "execution_count": 12,
   "metadata": {},
   "outputs": [
    {
     "name": "stdout",
     "output_type": "stream",
     "text": [
      "////\n"
     ]
    }
   ],
   "source": [
    "a = int(input(\"Digite su edad en años: \"))\n",
    "if a >= 0 and a<=20:\n",
    "    print(\"Deacuerdo a tu edad eres joven\")\n",
    "print(\"/\"*4)\n",
    "\n"
   ]
  },
  {
   "cell_type": "code",
   "execution_count": 3,
   "metadata": {},
   "outputs": [
    {
     "ename": "ValueError",
     "evalue": "invalid literal for int() with base 10: 'u'",
     "output_type": "error",
     "traceback": [
      "\u001b[1;31m---------------------------------------------------------------------------\u001b[0m",
      "\u001b[1;31mValueError\u001b[0m                                Traceback (most recent call last)",
      "\u001b[1;32m~\\AppData\\Local\\Temp/ipykernel_8668/1617006758.py\u001b[0m in \u001b[0;36m<module>\u001b[1;34m\u001b[0m\n\u001b[1;32m----> 1\u001b[1;33m \u001b[0ma\u001b[0m \u001b[1;33m=\u001b[0m \u001b[0mint\u001b[0m\u001b[1;33m(\u001b[0m\u001b[0minput\u001b[0m\u001b[1;33m(\u001b[0m\u001b[1;34m\"Digite su edad en años: \"\u001b[0m\u001b[1;33m)\u001b[0m\u001b[1;33m)\u001b[0m\u001b[1;33m\u001b[0m\u001b[1;33m\u001b[0m\u001b[0m\n\u001b[0m\u001b[0;32m      2\u001b[0m \u001b[1;32mif\u001b[0m \u001b[0ma\u001b[0m \u001b[1;33m>=\u001b[0m \u001b[1;36m1\u001b[0m \u001b[1;32mand\u001b[0m \u001b[0ma\u001b[0m\u001b[1;33m<=\u001b[0m\u001b[1;36m17\u001b[0m\u001b[1;33m:\u001b[0m\u001b[1;33m\u001b[0m\u001b[1;33m\u001b[0m\u001b[0m\n\u001b[0;32m      3\u001b[0m     \u001b[0mprint\u001b[0m\u001b[1;33m(\u001b[0m\u001b[1;34m\"Deacuerdo a tu edad eres menor de edad\"\u001b[0m\u001b[1;33m)\u001b[0m\u001b[1;33m\u001b[0m\u001b[1;33m\u001b[0m\u001b[0m\n\u001b[0;32m      4\u001b[0m \u001b[1;32melse\u001b[0m\u001b[1;33m:\u001b[0m\u001b[1;33m\u001b[0m\u001b[1;33m\u001b[0m\u001b[0m\n\u001b[0;32m      5\u001b[0m     \u001b[0mprint\u001b[0m\u001b[1;33m(\u001b[0m\u001b[1;34m\"eres mayor de edad\"\u001b[0m\u001b[1;33m)\u001b[0m\u001b[1;33m\u001b[0m\u001b[1;33m\u001b[0m\u001b[0m\n",
      "\u001b[1;31mValueError\u001b[0m: invalid literal for int() with base 10: 'u'"
     ]
    }
   ],
   "source": [
    "a = int(input(\"Digite su edad en años: \"))\n",
    "if a >= 1 and a<=17:\n",
    "    print(\"Deacuerdo a tu edad eres menor de edad\")\n",
    "else:\n",
    "    print(\"eres mayor de edad\")\n",
    "print(\"-\"*20)"
   ]
  },
  {
   "cell_type": "markdown",
   "metadata": {},
   "source": [
    "* Elif (Sino si) "
   ]
  },
  {
   "cell_type": "markdown",
   "metadata": {},
   "source": [
    "Ejemplo: Diseñe un algoritmo que le indique al usuario si puede conducir dependiendo de su edad.\n"
   ]
  },
  {
   "cell_type": "code",
   "execution_count": 12,
   "metadata": {},
   "outputs": [
    {
     "name": "stdout",
     "output_type": "stream",
     "text": [
      "Todavia no puedes conducir\n"
     ]
    }
   ],
   "source": [
    "edad = int(input(\"Digite su edad en años: \"))\n",
    "if edad < 16:\n",
    "    print(\"Todavia no puedes conducir\")\n",
    "elif edad < 18:\n",
    "    print(\"Puede obtener el permiso para conducir B2 y C1\")\n",
    "elif edad <= 70:\n",
    "    print(\"Puede obtener la licencia clse B2\")\n",
    "elif edad > 70 and edad < 75:\n",
    "    print(\"Solo puede renovar la licencia B2\")  \n",
    "else:\n",
    "   print(\"YA NO PUEDE CONDUCIR\")"
   ]
  },
  {
   "cell_type": "markdown",
   "metadata": {},
   "source": [
    "* Comentarios "
   ]
  },
  {
   "cell_type": "code",
   "execution_count": 4,
   "metadata": {},
   "outputs": [
    {
     "name": "stdout",
     "output_type": "stream",
     "text": [
      "Texto\n"
     ]
    }
   ],
   "source": [
    "# este es un comentario\n",
    "\n",
    "\"\"\"\n",
    "Sentencias\n",
    "...\n",
    ".\n",
    "\n",
    ".Sentencias\n",
    "\n",
    "\"\"\"\n",
    "print(\"Texto\")\n"
   ]
  },
  {
   "cell_type": "markdown",
   "metadata": {},
   "source": [
    "# Bucles "
   ]
  },
  {
   "cell_type": "markdown",
   "metadata": {},
   "source": [
    "* For (Para)"
   ]
  },
  {
   "cell_type": "code",
   "execution_count": 1,
   "metadata": {},
   "outputs": [
    {
     "name": "stdout",
     "output_type": "stream",
     "text": [
      "El exponente de 0 es: 0\n",
      "El exponente de 1 es: 1\n",
      "El exponente de 2 es: 4\n",
      "El exponente de 3 es: 9\n",
      "El exponente de 4 es: 16\n",
      "El exponente de 5 es: 25\n",
      "El exponente de 6 es: 36\n",
      "El exponente de 7 es: 49\n",
      "El exponente de 8 es: 64\n",
      "El exponente de 9 es: 81\n",
      "El bucle ha finalizado\n"
     ]
    }
   ],
   "source": [
    "for i in range(10):\n",
    "    print(f\"El exponente de {i} es: {i**2}\")\n",
    "\n",
    "print(\"El bucle ha finalizado\")"
   ]
  },
  {
   "cell_type": "code",
   "execution_count": 2,
   "metadata": {},
   "outputs": [
    {
     "name": "stdout",
     "output_type": "stream",
     "text": [
      "El exponente de 0 es: 0\n",
      "El exponente de 2 es: 4\n",
      "El exponente de 4 es: 16\n",
      "El exponente de 6 es: 36\n",
      "El exponente de 8 es: 64\n",
      "El bucle for ha finalizado\n"
     ]
    }
   ],
   "source": [
    "for i in range(0,10,2):\n",
    "    print(f\"El exponente de {i} es: {i**2}\")\n",
    "\n",
    "print(\"El bucle for ha finalizado\")"
   ]
  },
  {
   "cell_type": "code",
   "execution_count": 6,
   "metadata": {},
   "outputs": [
    {
     "name": "stdout",
     "output_type": "stream",
     "text": [
      "M\n",
      "e\n",
      " \n",
      "e\n",
      "n\n",
      "c\n",
      "a\n",
      "n\n",
      "t\n",
      "a\n",
      " \n",
      "p\n",
      "r\n",
      "o\n",
      "g\n",
      "r\n",
      "a\n",
      "m\n",
      "a\n",
      "r\n",
      "El bucle for ha finalizado\n"
     ]
    }
   ],
   "source": [
    "cadena = \"Me encanta programar\"\n",
    "\n",
    "for i in cadena:\n",
    "    print(i)\n",
    "print(\"El bucle for ha finalizado\")"
   ]
  },
  {
   "cell_type": "markdown",
   "metadata": {},
   "source": [
    "* While"
   ]
  },
  {
   "cell_type": "code",
   "execution_count": 21,
   "metadata": {},
   "outputs": [
    {
     "name": "stdout",
     "output_type": "stream",
     "text": [
      "0\n",
      "1\n",
      "2\n",
      "3\n",
      "4\n",
      "5\n",
      "6\n",
      "7\n",
      "8\n",
      "9\n",
      "El bucle termino\n"
     ]
    }
   ],
   "source": [
    "a = 0\n",
    "while a < 10:\n",
    "    print(a)\n",
    "    a = a+1\n",
    "print(\"El bucle termino\")"
   ]
  },
  {
   "cell_type": "code",
   "execution_count": 2,
   "metadata": {},
   "outputs": [
    {
     "name": "stdout",
     "output_type": "stream",
     "text": [
      "0\n",
      "1\n",
      "2\n",
      "3\n",
      "4\n",
      "5\n",
      "6\n",
      "7\n",
      "8\n",
      "9\n",
      "El bucle while ha finalizado\n"
     ]
    }
   ],
   "source": [
    "a= 0\n",
    "while a < 20:\n",
    "    print (a)\n",
    "    a = a +1 # contador\n",
    "    #a +=1\n",
    "    if a >= 10:\n",
    "        break\n",
    "print(\"El bucle while ha finalizado\")"
   ]
  },
  {
   "cell_type": "code",
   "execution_count": 1,
   "metadata": {},
   "outputs": [
    {
     "name": "stdout",
     "output_type": "stream",
     "text": [
      "1\n",
      "3\n",
      "5\n",
      "7\n",
      "9\n",
      "11\n",
      "13\n",
      "15\n",
      "17\n",
      "19\n",
      "21\n",
      "23\n",
      "25\n",
      "El bucle ha finalizado\n"
     ]
    }
   ],
   "source": [
    "a = 0\n",
    "\n",
    "while a < 25:\n",
    "    a+=1\n",
    "    if a % 2 == 0:\n",
    "        continue\n",
    "    print(a)\n",
    "print(\"El bucle ha finalizado\")"
   ]
  },
  {
   "cell_type": "markdown",
   "metadata": {},
   "source": [
    "Ejemplo: Diseñe un algoritmo que permita comparar caracteres \n",
    "ingresados por un usuario, y que indique si esta dentro de las asignaturas definidas \n",
    "(control\", \"programacion\",\"base de datos)"
   ]
  },
  {
   "cell_type": "code",
   "execution_count": 11,
   "metadata": {},
   "outputs": [
    {
     "name": "stdout",
     "output_type": "stream",
     "text": [
      "Asignaturas del 2 periodod de 2021\n",
      "Asignaturas optativas: CONTROL - programacion - bases de datos \n",
      "La asignatura elegida es:  control\n"
     ]
    }
   ],
   "source": [
    "print(\"Asignaturas del 2 periodod de 2021\")\n",
    "print(\"Asignaturas optativas: CONTROL - programacion - bases de datos \")\n",
    "\n",
    "A = input(\"Escriba la asignatura escogida: \")\n",
    "conver = A.lower()\n",
    "conver = A.upper()\n",
    "\n",
    "if conver in (\"control\", \"programacion\",\"base de datos\"):\n",
    "    print(\"La asignatura elegida es: \",A)\n",
    "else:\n",
    "    print(\"Su opción no es valida\")\n"
   ]
  },
  {
   "cell_type": "markdown",
   "metadata": {},
   "source": [
    "Modo 2"
   ]
  },
  {
   "cell_type": "code",
   "execution_count": 5,
   "metadata": {},
   "outputs": [
    {
     "name": "stdout",
     "output_type": "stream",
     "text": [
      "Asignaturas año 2021\n",
      "Asignaturas optativas: control-programación-bases de datos\n"
     ]
    }
   ],
   "source": [
    "print(\"Asignaturas año 2021\")\n",
    "print(\"Asignaturas optativas: control-programación-bases de datos\")\n",
    "#a = input(\"Escriba la asignatura escogida\")\n",
    "cadena = input(\"Escriba la asignatura escogida\")\n",
    "A = cadena.lower()\n",
    "\n",
    "if A in (\"control\",\"progracion\"):\n",
    "\n",
    "    print(\"Asignatura escogida: \"+ A)\n",
    "else:\n",
    "    print(\"La asignatura no existe\")"
   ]
  }
 ],
 "metadata": {
  "kernelspec": {
   "display_name": "Python 3.9.6 64-bit",
   "language": "python",
   "name": "python3"
  },
  "language_info": {
   "codemirror_mode": {
    "name": "ipython",
    "version": 3
   },
   "file_extension": ".py",
   "mimetype": "text/x-python",
   "name": "python",
   "nbconvert_exporter": "python",
   "pygments_lexer": "ipython3",
   "version": "3.9.6"
  },
  "orig_nbformat": 4,
  "vscode": {
   "interpreter": {
    "hash": "7579a0816e177d9a1f31cf795575fd4a5301165f97c80b0ac2cd2db442249ede"
   }
  }
 },
 "nbformat": 4,
 "nbformat_minor": 2
}
