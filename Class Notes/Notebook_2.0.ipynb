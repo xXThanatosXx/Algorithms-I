{
 "cells": [
  {
   "cell_type": "markdown",
   "metadata": {},
   "source": [
    "# Listas"
   ]
  },
  {
   "cell_type": "code",
   "execution_count": 2,
   "metadata": {},
   "outputs": [
    {
     "name": "stdout",
     "output_type": "stream",
     "text": [
      "['Andres', 'maria', 'juan', 15, 18.89]\n",
      "maria\n",
      "['Andres', 'maria', 'juan', 15]\n",
      "['juan', 15]\n",
      "['maria', 'juan', 15, 18.89]\n"
     ]
    }
   ],
   "source": [
    "milista = [\"Andres\", \"maria\", \"juan\",15,18.89]\n",
    "\n",
    "print(milista[:])\n",
    "\n",
    "print(milista[1])\n",
    "\n",
    "print(milista[:4])\n",
    "  \n",
    "print(milista[2:4])\n",
    "\n",
    "print(milista[1:])"
   ]
  },
  {
   "cell_type": "markdown",
   "metadata": {},
   "source": [
    "* Agregar un elemento a la lista al final \n"
   ]
  },
  {
   "cell_type": "code",
   "execution_count": 3,
   "metadata": {},
   "outputs": [
    {
     "name": "stdout",
     "output_type": "stream",
     "text": [
      "['Andres', 'maria', 'juan', 15, 18.89, 'Sandra']\n"
     ]
    }
   ],
   "source": [
    "milista = [\"Andres\", \"maria\", \"juan\",15,18.89]\n",
    "\n",
    "milista.append(\"Sandra\")\n",
    "print(milista[:])"
   ]
  },
  {
   "cell_type": "markdown",
   "metadata": {},
   "source": [
    "* Agregar un elemento a lista en cualquier posición de la lista"
   ]
  },
  {
   "cell_type": "code",
   "execution_count": 3,
   "metadata": {},
   "outputs": [
    {
     "name": "stdout",
     "output_type": "stream",
     "text": [
      "['Andres', 'maria', 'juan', 'Julian', 15, 18.89]\n"
     ]
    }
   ],
   "source": [
    "milista = [\"Andres\", \"maria\", \"juan\",15,18.89]\n",
    "milista.insert(3,\"Julian\")\n",
    "print(milista[:])\n"
   ]
  },
  {
   "cell_type": "markdown",
   "metadata": {},
   "source": [
    "* Lista Vacia"
   ]
  },
  {
   "cell_type": "code",
   "execution_count": 3,
   "metadata": {},
   "outputs": [],
   "source": [
    "milista = []"
   ]
  },
  {
   "cell_type": "markdown",
   "metadata": {},
   "source": [
    "* Agregar varios elementos a la lista"
   ]
  },
  {
   "cell_type": "code",
   "execution_count": 6,
   "metadata": {},
   "outputs": [
    {
     "name": "stdout",
     "output_type": "stream",
     "text": [
      "['Andres', 'maria', 'juan', 15, 18.89, 'Ana', 'Lucia', 12]\n"
     ]
    }
   ],
   "source": [
    "milista = [\"Andres\", \"maria\", \"juan\",15,18.89]\n",
    "milista.extend([\"Ana\",\"Lucia\",12])\n",
    "\n",
    "print(milista[:])"
   ]
  },
  {
   "cell_type": "markdown",
   "metadata": {},
   "source": [
    "* Mostrar el dato de la lista atraves de un indice"
   ]
  },
  {
   "cell_type": "code",
   "execution_count": 4,
   "metadata": {},
   "outputs": [
    {
     "name": "stdout",
     "output_type": "stream",
     "text": [
      "5\n",
      "False\n"
     ]
    }
   ],
   "source": [
    "milista = [\"Andres\", \"maria\", \"juan\",15,18.89]\n",
    "milista.extend([\"Ana\",\"Lucia\",12])\n",
    "\n",
    "print(milista.index(\"Ana\"))\n",
    "print(\"12\" in milista)"
   ]
  },
  {
   "cell_type": "markdown",
   "metadata": {},
   "source": [
    "* Retirar elementos de una lista"
   ]
  },
  {
   "cell_type": "code",
   "execution_count": 8,
   "metadata": {},
   "outputs": [
    {
     "name": "stdout",
     "output_type": "stream",
     "text": [
      "['maria', 'juan', 15, 18.89]\n"
     ]
    }
   ],
   "source": [
    "milista = [\"Andres\", \"maria\", \"juan\",15,18.89]\n",
    "milista.remove(\"Andres\")\n",
    "print(milista[:])"
   ]
  },
  {
   "cell_type": "markdown",
   "metadata": {},
   "source": [
    " * elimina el último elemento de la lista"
   ]
  },
  {
   "cell_type": "code",
   "execution_count": 11,
   "metadata": {},
   "outputs": [
    {
     "name": "stdout",
     "output_type": "stream",
     "text": [
      "['Andres', 'maria', 'juan', 15]\n"
     ]
    }
   ],
   "source": [
    "milista = [\"Andres\", \"maria\", \"juan\",15,18.89]\n",
    "milista.pop()\n",
    "print(milista[:])"
   ]
  },
  {
   "cell_type": "markdown",
   "metadata": {},
   "source": [
    "* Devuelve el número de elementos de una lista"
   ]
  },
  {
   "cell_type": "code",
   "execution_count": 12,
   "metadata": {},
   "outputs": [
    {
     "name": "stdout",
     "output_type": "stream",
     "text": [
      "10\n"
     ]
    }
   ],
   "source": [
    "texto = [\"P\",\"r\",\"o\",\"g\",\"r\",\"a\",\"c\",\"i\",\"o\",\"n\"]\n",
    "\n",
    "x = len(texto)\n",
    "print(x)"
   ]
  },
  {
   "cell_type": "markdown",
   "metadata": {},
   "source": [
    "* Convertir texto a Mayuscula o Miniscula"
   ]
  },
  {
   "cell_type": "code",
   "execution_count": 13,
   "metadata": {},
   "outputs": [
    {
     "name": "stdout",
     "output_type": "stream",
     "text": [
      "CURSO\n",
      "curso\n"
     ]
    }
   ],
   "source": [
    "txt = \"Curso\"\n",
    "x = txt.upper()\n",
    "\n",
    "y = txt.lower()\n",
    "print(x)\n",
    "print(y)"
   ]
  },
  {
   "cell_type": "markdown",
   "metadata": {},
   "source": [
    "* Concatenar dos listas"
   ]
  },
  {
   "cell_type": "code",
   "execution_count": 5,
   "metadata": {},
   "outputs": [
    {
     "name": "stdout",
     "output_type": "stream",
     "text": [
      "['Andres', 'maria', 'juan', 15, 18.89, 'fabio', 23, 56.6, 'fabio', 23, 56.6]\n"
     ]
    }
   ],
   "source": [
    "milista = [\"Andres\", \"maria\", \"juan\",15,18.89]\n",
    "milista2= [\"fabio\",23,56.6]\n",
    "milista4= [\"fabio\",23,56.6]\n",
    "milista3= milista+milista2+milista4\n",
    "\n",
    "print(milista3[:])"
   ]
  },
  {
   "cell_type": "markdown",
   "metadata": {},
   "source": [
    "# Tupplas\n"
   ]
  },
  {
   "cell_type": "markdown",
   "metadata": {},
   "source": [
    "* Son Inmutables"
   ]
  },
  {
   "cell_type": "code",
   "execution_count": 6,
   "metadata": {},
   "outputs": [],
   "source": [
    "t = [1, 2, 3]\n",
    "t[0] += 1 "
   ]
  },
  {
   "cell_type": "code",
   "execution_count": 15,
   "metadata": {},
   "outputs": [
    {
     "name": "stdout",
     "output_type": "stream",
     "text": [
      "('Luisa', 12, 2, 2005)\n",
      "2005\n"
     ]
    }
   ],
   "source": [
    "mi_tupla = (\"Luisa\",12,2,2005)\n",
    "print(mi_tupla[:])\n",
    "print(mi_tupla[3])"
   ]
  },
  {
   "cell_type": "markdown",
   "metadata": {},
   "source": [
    "* Convertir una tupla en una lista"
   ]
  },
  {
   "cell_type": "code",
   "execution_count": 16,
   "metadata": {},
   "outputs": [
    {
     "name": "stdout",
     "output_type": "stream",
     "text": [
      "['Luisa', 12, 2, 2005]\n"
     ]
    }
   ],
   "source": [
    "mi_tupla = (\"Luisa\",12,2,2005)\n",
    "milista = list(mi_tupla)\n",
    "print(milista[:])"
   ]
  },
  {
   "cell_type": "markdown",
   "metadata": {},
   "source": [
    "* Convertir una lista en una tupla"
   ]
  },
  {
   "cell_type": "code",
   "execution_count": 17,
   "metadata": {},
   "outputs": [
    {
     "name": "stdout",
     "output_type": "stream",
     "text": [
      "('Luisa', 12, 2, 2005)\n"
     ]
    }
   ],
   "source": [
    "mi_tupla = (\"Luisa\",12,2,2005)\n",
    "milista = list(mi_tupla)\n",
    "mitupla = tuple(milista)\n",
    "print(mitupla[:])"
   ]
  },
  {
   "cell_type": "markdown",
   "metadata": {},
   "source": [
    "* Busqueda de elementos en una tupla con count"
   ]
  },
  {
   "cell_type": "code",
   "execution_count": 9,
   "metadata": {},
   "outputs": [
    {
     "name": "stdout",
     "output_type": "stream",
     "text": [
      "2\n"
     ]
    }
   ],
   "source": [
    "mi_tupla = (\"Luisa\",12,2,2005,2005)\n",
    "milista = list(mi_tupla)\n",
    "print(milista.count(2005))\n"
   ]
  },
  {
   "cell_type": "markdown",
   "metadata": {},
   "source": [
    "* Empaquetado "
   ]
  },
  {
   "cell_type": "code",
   "execution_count": 24,
   "metadata": {},
   "outputs": [
    {
     "name": "stdout",
     "output_type": "stream",
     "text": [
      "('Luisa', 12, 2, 2005)\n"
     ]
    }
   ],
   "source": [
    "mi_tupla = \"Luisa\",12,2,2005\n",
    "\n",
    "print(mi_tupla[:])"
   ]
  },
  {
   "cell_type": "markdown",
   "metadata": {},
   "source": [
    "* desempaquetado"
   ]
  },
  {
   "cell_type": "code",
   "execution_count": 25,
   "metadata": {},
   "outputs": [
    {
     "name": "stdout",
     "output_type": "stream",
     "text": [
      "Luisa\n",
      "2005\n"
     ]
    }
   ],
   "source": [
    "mi_tupla = (\"Luisa\",12,2,2005)\n",
    "nombre,dia,mes,año=mi_tupla\n",
    "\n",
    "print(nombre)\n",
    "print(año)"
   ]
  },
  {
   "cell_type": "markdown",
   "metadata": {},
   "source": [
    "# Ejercicio: Ingresa un texto por consola, y verificar si al final tiene un “.”"
   ]
  },
  {
   "cell_type": "markdown",
   "metadata": {},
   "source": [
    "* Solución"
   ]
  },
  {
   "cell_type": "code",
   "execution_count": 5,
   "metadata": {},
   "outputs": [
    {
     "name": "stdout",
     "output_type": "stream",
     "text": [
      "si tiene\n"
     ]
    }
   ],
   "source": [
    "#texto = input(\"Ingresa texto: \")\n",
    "texto = [\"F\",\"a\",\"u\",\"s\",\"t\",\"o\",\"r\",'.']\n",
    "t = len(texto)\n",
    "p = texto[t-1]\n",
    "\n",
    "if p == \".\":\n",
    "    print(\"si tiene\")\n",
    "else:\n",
    "    print(\"no tiene\")"
   ]
  }
 ],
 "metadata": {
  "kernelspec": {
   "display_name": "Python 3.9.6 64-bit",
   "language": "python",
   "name": "python3"
  },
  "language_info": {
   "codemirror_mode": {
    "name": "ipython",
    "version": 3
   },
   "file_extension": ".py",
   "mimetype": "text/x-python",
   "name": "python",
   "nbconvert_exporter": "python",
   "pygments_lexer": "ipython3",
   "version": "3.9.6"
  },
  "orig_nbformat": 4,
  "vscode": {
   "interpreter": {
    "hash": "7579a0816e177d9a1f31cf795575fd4a5301165f97c80b0ac2cd2db442249ede"
   }
  }
 },
 "nbformat": 4,
 "nbformat_minor": 2
}
