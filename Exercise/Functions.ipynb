{
 "cells": [
  {
   "cell_type": "markdown",
   "metadata": {},
   "source": [
    "* Escriba un programa, que solicite al usuario que ingrese en una sola cadena\n",
    "tanto el nombre como el apellido. Al final, el programa debería cambiar el\n",
    "orden de los dos nombres."
   ]
  },
  {
   "cell_type": "code",
   "execution_count": null,
   "metadata": {},
   "outputs": [],
   "source": []
  },
  {
   "cell_type": "markdown",
   "metadata": {},
   "source": [
    "* Escriba un programa que solicite al usuario, que ingrese su apellido y luego\n",
    "cree una ID de inicio de sesión a partir de las primeras cuatro letras del\n",
    "nombre (en minúsculas) y un número entero aleatorio de tres dígitos."
   ]
  },
  {
   "cell_type": "code",
   "execution_count": 5,
   "metadata": {},
   "outputs": [
    {
     "name": "stdout",
     "output_type": "stream",
     "text": [
      "USUARIO: mies\n",
      "CONTRASEÑA: 07762\n"
     ]
    }
   ],
   "source": [
    "import random\n",
    "\n",
    "frase = input(\"Ingrese una frase de 5 palabras: \")\n",
    "\n",
    "palabras = frase.split()\n",
    "\n",
    "usuario = palabras[1] + palabras[3]\n",
    "\n",
    "password = \"\"\n",
    "\n",
    "for i in range(5):\n",
    "    password += str(random.randint(0, 9))\n",
    "\n",
    "print(\"USUARIO:\", usuario)\n",
    "print(\"CONTRASEÑA:\", password)\n"
   ]
  },
  {
   "cell_type": "markdown",
   "metadata": {},
   "source": [
    "* Escriba un programa, que solicite al usuario, que ingrese un número entero\n",
    "y luego lo invierta. Por ejemplo, si el usuario ingresa el número 375, se debe\n",
    "mostrar el número 573."
   ]
  },
  {
   "cell_type": "code",
   "execution_count": 13,
   "metadata": {},
   "outputs": [
    {
     "name": "stdout",
     "output_type": "stream",
     "text": [
      "2\n",
      "1\n",
      "su numero invertido es 45\n",
      "su nyumero invertido 54\n"
     ]
    }
   ],
   "source": [
    "listamia=[]\n",
    "\n",
    "numeroentero= input(\"Introduce un:numero entero   \")\n",
    "n=len(str(numeroentero))\n",
    "listamia.append(str(numeroentero),)\n",
    "\n",
    "for i in range(n):\n",
    "    print(listamia[0][-(i+1)])\n",
    "\n",
    "lista = input (\"digite su numero a invertir\")\n",
    "print(\"su numero invertido es\", lista)\n",
    "invertido = lista [::-1]\n",
    "print(\"su nyumero invertido\", invertido)    \n"
   ]
  },
  {
   "cell_type": "markdown",
   "metadata": {},
   "source": [
    "* Implementar una función que permita hallar el valor de x y, siendo x un número real e y un entero."
   ]
  },
  {
   "cell_type": "code",
   "execution_count": null,
   "metadata": {},
   "outputs": [],
   "source": []
  },
  {
   "cell_type": "markdown",
   "metadata": {},
   "source": [
    "* Realizar tres funciones que permitan hallar el valor de π mediante las series matemáticas siguientes:"
   ]
  },
  {
   "cell_type": "code",
   "execution_count": 6,
   "metadata": {},
   "outputs": [
    {
     "name": "stdout",
     "output_type": "stream",
     "text": [
      "3.14159271502038\n"
     ]
    }
   ],
   "source": [
    "#a\n",
    "def calculoPI(n):\n",
    "  pi = 0\n",
    "  for k in range (n + 1):\n",
    "    pi += 2 * (-1)**k * 3**(1/2 -k) / (2 * k + 1)\n",
    "  return pi\n",
    "\n",
    "print(calculoPI(12))\n"
   ]
  },
  {
   "cell_type": "code",
   "execution_count": 9,
   "metadata": {},
   "outputs": [
    {
     "name": "stdout",
     "output_type": "stream",
     "text": [
      "3.140592653839794\n"
     ]
    }
   ],
   "source": [
    "def numeroN(n):\n",
    "  numero =((-1)**n)/((2*n)+1)\n",
    "  return numero\n",
    "\n",
    "pi=0\n",
    "\n",
    "for i in range(10):\n",
    "  pi = pi + numeroN(i)\n",
    "print(pi*4)\n"
   ]
  },
  {
   "cell_type": "code",
   "execution_count": 4,
   "metadata": {},
   "outputs": [
    {
     "name": "stdout",
     "output_type": "stream",
     "text": [
      "El valor calculado de PI es: 3.142593654340044\n"
     ]
    }
   ],
   "source": [
    "solution = float(0)\n",
    "List = int(input(\"favor ingresar la cantidad de terminos a generar: \"))\n",
    "\n",
    "for i in range(1,List):\n",
    "\n",
    "      if(i % 2 ==0):  \n",
    "        solution = solution -(4 / ((i* 2) - 1))\n",
    "      else:\n",
    "        solution = solution +(4 / ((i* 2) - 1))\n",
    "\n",
    "print(\"El valor calculado de PI es: \" + str(solution))\n"
   ]
  }
 ],
 "metadata": {
  "kernelspec": {
   "display_name": "Python 3.9.6 64-bit",
   "language": "python",
   "name": "python3"
  },
  "language_info": {
   "codemirror_mode": {
    "name": "ipython",
    "version": 3
   },
   "file_extension": ".py",
   "mimetype": "text/x-python",
   "name": "python",
   "nbconvert_exporter": "python",
   "pygments_lexer": "ipython3",
   "version": "3.9.6"
  },
  "orig_nbformat": 4,
  "vscode": {
   "interpreter": {
    "hash": "7579a0816e177d9a1f31cf795575fd4a5301165f97c80b0ac2cd2db442249ede"
   }
  }
 },
 "nbformat": 4,
 "nbformat_minor": 2
}
